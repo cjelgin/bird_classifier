{
 "cells": [
  {
   "cell_type": "markdown",
   "metadata": {},
   "source": [
    "$ docker pull tensorflow/serving\n",
    "\n",
    "Pulls a tensorflow/serving image from docker hub.\n",
    "\n",
    "$ docker run -d --name serving_base_container tensorflow/serving\n",
    "\n",
    "Runs a tensorflow/serving container in the background(-d) named serving_base_container(or name of choice)\n",
    "\n",
    "$ docker cp /home/carl/Dropbox/dev/bird_classifier/bird_classifier serving_base_container:/models/bird_classifier\n",
    "\n",
    "Copies the directory containing the bird_classifier model into the container directory.\n",
    "\n",
    "$ docker commit --change \"ENV MODEL_NAME bird_classifier\" serving_base_container bird_classifier\n",
    "\n",
    "Changes the currently running serving_base_container container by setting the MODEL_NAME environment variable(which is used by tensorflow serving) equal to \"bird_classifier\" and renaming the new container \"bird_classifier\".\n",
    "\n",
    "$ docker kill serving_base_container\n",
    "\n",
    "Kill the currently running serving_base_container.\n",
    "\n",
    "$ docker run -it -p 8500:8500 -p 8501:8501 --name bird_classifier bird_classifier\n",
    "\n",
    "\n"
   ]
  },
  {
   "cell_type": "code",
   "execution_count": 1,
   "metadata": {},
   "outputs": [],
   "source": [
    "import json\n",
    "import numpy as np\n",
    "import requests"
   ]
  },
  {
   "cell_type": "code",
   "execution_count": 2,
   "metadata": {},
   "outputs": [],
   "source": [
    "CLASS_NAMES = np.array(['ALBATROSS', 'ALEXANDRINE PARAKEET', 'AMERICAN AVOCET',\n",
    "       'AMERICAN BITTERN', 'AMERICAN COOT', 'AMERICAN GOLDFINCH',\n",
    "       'AMERICAN KESTREL', 'AMERICAN PIPIT', 'AMERICAN REDSTART',\n",
    "       'ANHINGA', 'ANNAS HUMMINGBIRD', 'ARARIPE MANAKIN', 'BALD EAGLE',\n",
    "       'BALTIMORE ORIOLE', 'BANANAQUIT', 'BAR-TAILED GODWIT', 'BARN OWL',\n",
    "       'BARN SWALLOW', 'BAY-BREASTED WARBLER', 'BELTED KINGFISHER',\n",
    "       'BIRD OF PARADISE', 'BLACK FRANCOLIN', 'BLACK SKIMMER',\n",
    "       'BLACK SWAN', 'BLACK THROATED WARBLER', 'BLACK VULTURE',\n",
    "       'BLACK-CAPPED CHICKADEE', 'BLACK-NECKED GREBE',\n",
    "       'BLACKBURNIAM WARBLER', 'BLUE GROUSE', 'BLUE HERON', 'BOBOLINK',\n",
    "       'BROWN THRASHER', 'CACTUS WREN', 'CALIFORNIA CONDOR',\n",
    "       'CALIFORNIA GULL', 'CALIFORNIA QUAIL', 'CAPE MAY WARBLER',\n",
    "       'CARMINE BEE-EATER', 'CASPIAN TERN', 'CASSOWARY',\n",
    "       'CHARA DE COLLAR', 'CHIPPING SPARROW', 'CINNAMON TEAL',\n",
    "       'COCK OF THE  ROCK', 'COCKATOO', 'COMMON GRACKLE',\n",
    "       'COMMON HOUSE MARTIN', 'COMMON LOON', 'COMMON POORWILL',\n",
    "       'COMMON STARLING', 'COUCHS KINGBIRD', 'CRESTED AUKLET',\n",
    "       'CRESTED CARACARA', 'CROW', 'CROWNED PIGEON', 'CUBAN TODY',\n",
    "       'CURL CRESTED ARACURI', 'DARK EYED JUNCO', 'DOVEKIE',\n",
    "       'DOWNY WOODPECKER', 'EASTERN BLUEBIRD', 'EASTERN MEADOWLARK',\n",
    "       'EASTERN ROSELLA', 'EASTERN TOWEE', 'ELEGANT TROGON',\n",
    "       'ELLIOTS  PHEASANT', 'EMPEROR PENGUIN', 'EMU', 'EURASIAN MAGPIE',\n",
    "       'EVENING GROSBEAK', 'FLAME TANAGER', 'FLAMINGO', 'FRIGATE',\n",
    "       'GILA WOODPECKER', 'GLOSSY IBIS', 'GOLD WING WARBLER',\n",
    "       'GOLDEN CHLOROPHONIA', 'GOLDEN EAGLE', 'GOLDEN PHEASANT',\n",
    "       'GOULDIAN FINCH', 'GRAY CATBIRD', 'GRAY PARTRIDGE', 'GREEN JAY',\n",
    "       'GREY PLOVER', 'GUINEAFOWL', 'HAWAIIAN GOOSE', 'HOODED MERGANSER',\n",
    "       'HOOPOES', 'HORNBILL', 'HOUSE FINCH', 'HOUSE SPARROW',\n",
    "       'HYACINTH MACAW', 'INDIGO BUNTING', 'JABIRU', 'JAVAN MAGPIE',\n",
    "       'KILLDEAR', 'KING VULTURE', 'LARK BUNTING', 'LILAC ROLLER',\n",
    "       'LONG-EARED OWL', 'MALEO', 'MALLARD DUCK', 'MANDRIN DUCK',\n",
    "       'MARABOU STORK', 'MASKED BOOBY', 'MIKADO  PHEASANT',\n",
    "       'MOURNING DOVE', 'MYNA', 'NICOBAR PIGEON', 'NORTHERN CARDINAL',\n",
    "       'NORTHERN FLICKER', 'NORTHERN GANNET', 'NORTHERN GOSHAWK',\n",
    "       'NORTHERN JACANA', 'NORTHERN MOCKINGBIRD', 'NORTHERN RED BISHOP',\n",
    "       'OCELLATED TURKEY', 'OSPREY', 'OSTRICH', 'PAINTED BUNTIG',\n",
    "       'PARADISE TANAGER', 'PARUS MAJOR', 'PEACOCK', 'PELICAN',\n",
    "       'PEREGRINE FALCON', 'PINK ROBIN', 'PUFFIN', 'PURPLE FINCH',\n",
    "       'PURPLE GALLINULE', 'PURPLE MARTIN', 'PURPLE SWAMPHEN', 'QUETZAL',\n",
    "       'RAINBOW LORIKEET', 'RED FACED CORMORANT', 'RED HEADED WOODPECKER',\n",
    "       'RED THROATED BEE EATER', 'RED WINGED BLACKBIRD',\n",
    "       'RED WISKERED BULBUL', 'RING-NECKED PHEASANT', 'ROADRUNNER',\n",
    "       'ROBIN', 'ROCK DOVE', 'ROSY FACED LOVEBIRD', 'ROUGH LEG BUZZARD',\n",
    "       'RUBY THROATED HUMMINGBIRD', 'RUFOUS KINGFISHER', 'RUFUOS MOTMOT',\n",
    "       'SAND MARTIN', 'SCARLET IBIS', 'SCARLET MACAW', 'SHOEBILL',\n",
    "       'SNOWY EGRET', 'SORA', 'SPLENDID WREN', 'SPOONBILL',\n",
    "       'STORK BILLED KINGFISHER', 'STRAWBERRY FINCH', 'TAIWAN MAGPIE',\n",
    "       'TEAL DUCK', 'TIT MOUSE', 'TOUCHAN', 'TRUMPTER SWAN',\n",
    "       'TURKEY VULTURE', 'TURQUOISE MOTMOT', 'VARIED THRUSH',\n",
    "       'VENEZUELIAN TROUPIAL', 'VERMILION FLYCATHER',\n",
    "       'VIOLET GREEN SWALLOW', 'WESTERN MEADOWLARK',\n",
    "       'WHITE CHEEKED TURACO', 'WILD TURKEY', 'WILSONS BIRD OF PARADISE',\n",
    "       'WOOD DUCK', 'YELLOW HEADED BLACKBIRD'], dtype='<U25')\n",
    "\n",
    "\n",
    "def get_top_n(predictions,n,class_labels):\n",
    "  num_preds = predictions.shape[0]\n",
    "  pred_list = []\n",
    "  for pred in range(num_preds):\n",
    "    topn_dict={}\n",
    "    topn_indices = np.argpartition(predictions[pred], -n)[-n:]\n",
    "    for each in range(topn_indices.shape[0]):\n",
    "      bird_name = class_labels[topn_indices[each]]\n",
    "      y_prob = predictions[pred][topn_indices[each]]\n",
    "      topn_dict.update({bird_name : y_prob})\n",
    "    topn_dict_ordered = sorted(topn_dict.items(), key=lambda item: item[1] , reverse=True)\n",
    "    pred_list.append(topn_dict_ordered)\n",
    "  return pred_list\n"
   ]
  },
  {
   "cell_type": "code",
   "execution_count": 3,
   "metadata": {},
   "outputs": [],
   "source": [
    "image = np.load('/home/carl/Dropbox/dev/Data/STORK_BILLED_KINGFISHER.npy')"
   ]
  },
  {
   "cell_type": "code",
   "execution_count": null,
   "metadata": {},
   "outputs": [],
   "source": []
  },
  {
   "cell_type": "code",
   "execution_count": 4,
   "metadata": {},
   "outputs": [],
   "source": [
    "input_data_json = json.dumps({\n",
    "    \"signature_name\": \"serving_default\",\n",
    "    \"instances\": image.tolist(),\n",
    "})"
   ]
  },
  {
   "cell_type": "code",
   "execution_count": 7,
   "metadata": {},
   "outputs": [],
   "source": [
    "SERVER_URL = 'http://localhost:8501/v1/models/bird_classifier:predict'\n",
    "response = requests.post(SERVER_URL, data=input_data_json)\n",
    "response.raise_for_status()\n",
    "response = response.json()"
   ]
  },
  {
   "cell_type": "code",
   "execution_count": 8,
   "metadata": {},
   "outputs": [
    {
     "data": {
      "text/plain": [
       "[[('STORK BILLED KINGFISHER', 0.997),\n",
       "  ('RUFUOS MOTMOT', 0.0012),\n",
       "  ('RUFOUS KINGFISHER', 0.0011),\n",
       "  ('TURQUOISE MOTMOT', 0.0002),\n",
       "  ('ANHINGA', 0.0001)]]"
      ]
     },
     "execution_count": 8,
     "metadata": {},
     "output_type": "execute_result"
    }
   ],
   "source": [
    "preds = np.array(response['predictions']).round(4)\n",
    "get_top_n(preds, 5, CLASS_NAMES)"
   ]
  },
  {
   "cell_type": "code",
   "execution_count": null,
   "metadata": {},
   "outputs": [],
   "source": []
  }
 ],
 "metadata": {
  "kernelspec": {
   "display_name": "my_env",
   "language": "python",
   "name": "my_env"
  },
  "language_info": {
   "codemirror_mode": {
    "name": "ipython",
    "version": 3
   },
   "file_extension": ".py",
   "mimetype": "text/x-python",
   "name": "python",
   "nbconvert_exporter": "python",
   "pygments_lexer": "ipython3",
   "version": "3.6.9"
  }
 },
 "nbformat": 4,
 "nbformat_minor": 4
}
